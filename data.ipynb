{
 "cells": [
  {
   "cell_type": "code",
   "execution_count": 2,
   "id": "3b21b489-5503-417c-95cb-6f246d591291",
   "metadata": {},
   "outputs": [],
   "source": [
    "import pandas as pd"
   ]
  },
  {
   "cell_type": "code",
   "execution_count": 3,
   "id": "dc9500d4-c653-48f5-9b24-c7a11c699d37",
   "metadata": {},
   "outputs": [],
   "source": [
    "df = pd.read_csv('data.csv')"
   ]
  },
  {
   "cell_type": "code",
   "execution_count": 4,
   "id": "81b8d30b-1dee-4421-9bd0-fdf6488feaa3",
   "metadata": {},
   "outputs": [],
   "source": [
    "df['Revenue Growth (%)'] = df.groupby(['Company'])['Total Revenue'].pct_change() * 100\n",
    "df['Net Income Growth (%)'] = df.groupby(['Company'])['Net Income'].pct_change() * 100\n",
    "df['Asset Growth (%)'] = df.groupby(['Company'])['Total Assets'].pct_change() * 100\n",
    "df['Liability Growth (%)'] = df.groupby(['Company'])['Total Liabilities'].pct_change() * 100\n",
    "df['Cash Flow From Operations Growth (%)'] = df.groupby(['Company'])['Cash Flow From Operation Activities'].pct_change() * 100\n",
    "df.fillna(0, inplace=True)\n",
    "df.to_csv('data_with_growth.csv', index=False)"
   ]
  },
  {
   "cell_type": "code",
   "execution_count": 5,
   "id": "9a7a8622-166e-40ac-b2cc-e0299c59b588",
   "metadata": {},
   "outputs": [
    {
     "name": "stdout",
     "output_type": "stream",
     "text": [
      "     Company  Fiscal Year  Total Revenue  Net Income  Total Assets  \\\n",
      "0  Microsoft         2021         168088       61271        333779   \n",
      "1  Microsoft         2022         198270       72738        364840   \n",
      "2  Microsoft         2023         211915       72361        411976   \n",
      "3      Tesla         2021          53823        5644         62131   \n",
      "4      Tesla         2022          81462       12587         82338   \n",
      "5      Tesla         2023          96773       14974        106618   \n",
      "6      Apple         2021         365817       94680        351002   \n",
      "7      Apple         2022         394328       99803        352755   \n",
      "8      Apple         2023         383285       96995        352583   \n",
      "\n",
      "   Total Liabilities  Cash Flow From Operation Activities  Revenue Growth (%)  \\\n",
      "0             191791                                76740            0.000000   \n",
      "1             198298                                89035           17.956071   \n",
      "2             205753                                87582            6.882030   \n",
      "3              30548                                11497            0.000000   \n",
      "4              36440                                14724           51.351653   \n",
      "5              43009                                13256           18.795267   \n",
      "6             287912                               104038            0.000000   \n",
      "7             302083                               122151            7.793788   \n",
      "8             290437                               110543           -2.800461   \n",
      "\n",
      "   Net Income Growth (%)  Asset Growth (%)  Liability Growth (%)  \\\n",
      "0               0.000000          0.000000              0.000000   \n",
      "1              18.715216          9.305858              3.392756   \n",
      "2              -0.518299         12.919636              3.759493   \n",
      "3               0.000000          0.000000              0.000000   \n",
      "4             123.015592         32.523217             19.287678   \n",
      "5              18.964010         29.488207             18.026894   \n",
      "6               0.000000          0.000000              0.000000   \n",
      "7               5.410858          0.499427              4.921990   \n",
      "8              -2.813543         -0.048759             -3.855232   \n",
      "\n",
      "   Cash Flow From Operations Growth (%)  \n",
      "0                              0.000000  \n",
      "1                             16.021631  \n",
      "2                             -1.631942  \n",
      "3                              0.000000  \n",
      "4                             28.068192  \n",
      "5                             -9.970117  \n",
      "6                              0.000000  \n",
      "7                             17.409985  \n",
      "8                             -9.502992  \n",
      "\n",
      "Year-over-Year Average Growth Rates (%):\n",
      "     Company  Revenue Growth (%)  Net Income Growth (%)  Asset Growth (%)  \\\n",
      "0      Apple            1.664442               0.865772          0.150223   \n",
      "1  Microsoft            8.279367               6.065639          7.408498   \n",
      "2      Tesla           23.382306              47.326534         20.670475   \n",
      "\n",
      "   Liability Growth (%)  Cash Flow From Operations Growth (%)  \n",
      "0              0.355586                              2.635664  \n",
      "1              2.384083                              4.796563  \n",
      "2             12.438191                              6.032692  \n"
     ]
    }
   ],
   "source": [
    "# Calculate year-over-year growth rates for Total Revenue and Net Income\n",
    "df['Revenue Growth (%)'] = df.groupby(['Company'])['Total Revenue'].pct_change() * 100\n",
    "df['Net Income Growth (%)'] = df.groupby(['Company'])['Net Income'].pct_change() * 100\n",
    "df['Asset Growth (%)'] = df.groupby(['Company'])['Total Assets'].pct_change() * 100\n",
    "df['Liability Growth (%)'] = df.groupby(['Company'])['Total Liabilities'].pct_change() * 100\n",
    "df['Cash Flow From Operations Growth (%)'] = df.groupby(['Company'])['Cash Flow From Operation Activities'].pct_change() * 100\n",
    "\n",
    "# Fill NA values that result from pct_change calculations with 0 or an appropriate value\n",
    "df.fillna(0, inplace=True)\n",
    "\n",
    "# Display the dataframe to verify the calculations\n",
    "print(df)\n",
    "\n",
    "# Optionally, you could summarize these findings for each company\n",
    "summary = df.groupby('Company').agg({\n",
    "    'Revenue Growth (%)': 'mean',\n",
    "    'Net Income Growth (%)': 'mean',\n",
    "    'Asset Growth (%)': 'mean',\n",
    "    'Liability Growth (%)': 'mean',\n",
    "    'Cash Flow From Operations Growth (%)': 'mean'\n",
    "}).reset_index()\n",
    "\n",
    "print(\"\\nYear-over-Year Average Growth Rates (%):\")\n",
    "print(summary)"
   ]
  },
  {
   "cell_type": "code",
   "execution_count": 46,
   "id": "bf287248-0df1-40d1-9f81-a162089d53d7",
   "metadata": {},
   "outputs": [
    {
     "name": "stdout",
     "output_type": "stream",
     "text": [
      "Company\n",
      "Apple        381143.333333\n",
      "Microsoft    192757.666667\n",
      "Tesla         77352.666667\n",
      "Name: Total Revenue, dtype: float64\n"
     ]
    }
   ],
   "source": [
    "mean_revenue = df.groupby('Company')['Total Revenue'].mean()\n",
    "\n",
    "print(mean_revenue)"
   ]
  },
  {
   "cell_type": "markdown",
   "id": "9bb3de07-4c27-4cf0-b537-ffa9ded768d5",
   "metadata": {},
   "source": [
    "## Financial Data Analysis for Microsoft, Tesla, and Apple\n",
    "\n",
    "### Introduction\n",
    "In this analysis, we extracted key financial data from the 10-K filings of Microsoft, Tesla, and Apple for the last three fiscal years. We focused on the following metrics: Total Revenue, Net Income, Total Assets, Total Liabilities, and Cash Flow from Operating Activities.\n",
    "\n",
    "### Methodology\n",
    "The data was manually extracted from the SEC EDGAR database and compiled into a CSV file. We used Python's pandas library to calculate year-over-year changes and analyze trends.\n",
    "\n",
    "### Analysis\n",
    "The following sections present the calculated growth percentages for each company and financial metric.\n",
    "\n",
    "### Observations\n",
    "**Microsoft**\n",
    "\n",
    " - 2023\n",
    "   - Revenue Growth (%) = 6.88 %\n",
    "   - Net Income Growth (%) = -0.51 %\n",
    "   - Asset Growth (%) = 12.91 %\n",
    "   - Liability Growth (%) = 3.75 %\n",
    "   - Cash Flow From Operations Growth (%) = -1.63 %\n",
    "     \n",
    " - 2022\n",
    "   - Revenue Growth (%) = 17.95 %\n",
    "   - Net Income Growth (%) = 18.71 %\n",
    "   - Asset Growth (%) = 9.30 %\n",
    "   - Liability Growth (%) = 3.39 %\n",
    "   - Cash Flow From Operations Growth (%) = 16.02 %\n",
    "\n",
    "**Tesla**\n",
    "\n",
    " - 2023\n",
    "   - Revenue Growth (%) = 18.79 %\n",
    "   - Net Income Growth (%) = 18.96 %\n",
    "   - Asset Growth (%) = 29.48 %\n",
    "   - Liability Growth (%) = 18.02 %\n",
    "   - Cash Flow From Operations Growth (%) = -9.97 %\n",
    "\n",
    " - 2022\n",
    "   - Revenue Growth (%) = 51.35 %\n",
    "   - Net Income Growth (%) = 123.01 %\n",
    "   - Asset Growth (%) = 32.52 %\n",
    "   - Liability Growth (%) = 19.28 %\n",
    "   - Cash Flow From Operations Growth (%) = 28.06 %\n",
    "\n",
    "**Apple**\n",
    "\n",
    " - 2023\n",
    "   - Revenue Growth (%) = -2.80 %\n",
    "   - Net Income Growth (%) = -2.81 %\n",
    "   - Asset Growth (%) = -0.04 %\n",
    "   - Liability Growth (%) = -3.85 %\n",
    "   - Cash Flow From Operations Growth (%) = -9.50 %\n",
    "\n",
    " - 2022\n",
    "   - Revenue Growth (%) = 7.7 %\n",
    "   - Net Income Growth (%) = 5.41 %\n",
    "   - Asset Growth (%) = 0.49 %\n",
    "   - Liability Growth (%) = 4.92 %\n",
    "   - Cash Flow From Operations Growth (%) = 17.40 %\n",
    "\n",
    "### Conclusion\n",
    "The analysis revealed significant trends in the financial performance of the companies over the past three years.\n"
   ]
  }
 ],
 "metadata": {
  "kernelspec": {
   "display_name": "Python 3 (ipykernel)",
   "language": "python",
   "name": "python3"
  },
  "language_info": {
   "codemirror_mode": {
    "name": "ipython",
    "version": 3
   },
   "file_extension": ".py",
   "mimetype": "text/x-python",
   "name": "python",
   "nbconvert_exporter": "python",
   "pygments_lexer": "ipython3",
   "version": "3.12.3"
  }
 },
 "nbformat": 4,
 "nbformat_minor": 5
}
