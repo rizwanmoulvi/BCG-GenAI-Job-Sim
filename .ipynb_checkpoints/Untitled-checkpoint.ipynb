{
 "cells": [
  {
   "cell_type": "code",
   "execution_count": 43,
   "id": "3b21b489-5503-417c-95cb-6f246d591291",
   "metadata": {},
   "outputs": [],
   "source": [
    "import pandas as pd"
   ]
  },
  {
   "cell_type": "code",
   "execution_count": 44,
   "id": "dc9500d4-c653-48f5-9b24-c7a11c699d37",
   "metadata": {},
   "outputs": [],
   "source": [
    "df = pd.read_csv('data.csv')"
   ]
  },
  {
   "cell_type": "code",
   "execution_count": 45,
   "id": "81b8d30b-1dee-4421-9bd0-fdf6488feaa3",
   "metadata": {},
   "outputs": [],
   "source": [
    "df['Revenue Growth (%)'] = df.groupby(['Company'])['Total Revenue'].pct_change() * 100\n",
    "df['Net Income Growth (%)'] = df.groupby(['Company'])['Net Income'].pct_change() * 100\n",
    "df['Asset Growth (%)'] = df.groupby(['Company'])['Total Assets'].pct_change() * 100\n",
    "df['Liability Growth (%)'] = df.groupby(['Company'])['Total Liabilities'].pct_change() * 100\n",
    "df['Cash Flow From Operations Growth (%)'] = df.groupby(['Company'])['Cash Flow From Operation Activities'].pct_change() * 100\n",
    "\n",
    "df.to_csv('data_with_growth.csv', index=False)"
   ]
  },
  {
   "cell_type": "code",
   "execution_count": 46,
   "id": "bf287248-0df1-40d1-9f81-a162089d53d7",
   "metadata": {},
   "outputs": [
    {
     "name": "stdout",
     "output_type": "stream",
     "text": [
      "Company\n",
      "Apple        381143.333333\n",
      "Microsoft    192757.666667\n",
      "Tesla         77352.666667\n",
      "Name: Total Revenue, dtype: float64\n"
     ]
    }
   ],
   "source": [
    "mean_revenue = df.groupby('Company')['Total Revenue'].mean()\n",
    "\n",
    "print(mean_revenue)"
   ]
  },
  {
   "cell_type": "markdown",
   "id": "9bb3de07-4c27-4cf0-b537-ffa9ded768d5",
   "metadata": {},
   "source": [
    "## Financial Data Analysis for Microsoft, Tesla, and Apple\n",
    "\n",
    "### Introduction\n",
    "In this analysis, we extracted key financial data from the 10-K filings of Microsoft, Tesla, and Apple for the last three fiscal years. We focused on the following metrics: Total Revenue, Net Income, Total Assets, Total Liabilities, and Cash Flow from Operating Activities.\n",
    "\n",
    "### Methodology\n",
    "The data was manually extracted from the SEC EDGAR database and compiled into a CSV file. We used Python's pandas library to calculate year-over-year changes and analyze trends.\n",
    "\n",
    "### Analysis\n",
    "The following sections present the calculated growth percentages for each company and financial metric.\n",
    "\n",
    "### Observations\n",
    "**Microsoft**\n",
    "\n",
    " - 2023\n",
    "   - Revenue Growth (%) = 6.88 %\n",
    "   - Net Income Growth (%) = -0.51 %\n",
    "   - Asset Growth (%) = 12.91 %\n",
    "   - Liability Growth (%) = 3.75 %\n",
    "   - Cash Flow From Operations Growth (%) = -1.63 %\n",
    "     \n",
    " - 2022\n",
    "   - Revenue Growth (%) = 17.95 %\n",
    "   - Net Income Growth (%) = 18.71 %\n",
    "   - Asset Growth (%) = 9.30 %\n",
    "   - Liability Growth (%) = 3.39 %\n",
    "   - Cash Flow From Operations Growth (%) = 16.02 %\n",
    "\n",
    "**Tesla**\n",
    "\n",
    " - 2023\n",
    "   - Revenue Growth (%) = 18.79 %\n",
    "   - Net Income Growth (%) = 18.96 %\n",
    "   - Asset Growth (%) = 29.48 %\n",
    "   - Liability Growth (%) = 18.02 %\n",
    "   - Cash Flow From Operations Growth (%) = -9.97 %\n",
    "\n",
    " - 2022\n",
    "   - Revenue Growth (%) = 51.35 %\n",
    "   - Net Income Growth (%) = 123.01 %\n",
    "   - Asset Growth (%) = 32.52 %\n",
    "   - Liability Growth (%) = 19.28 %\n",
    "   - Cash Flow From Operations Growth (%) = 28.06 %\n",
    "\n",
    "**Apple**\n",
    "\n",
    " - 2023\n",
    "   - Revenue Growth (%) = -2.80 %\n",
    "   - Net Income Growth (%) = -2.81 %\n",
    "   - Asset Growth (%) = -0.04 %\n",
    "   - Liability Growth (%) = -3.85 %\n",
    "   - Cash Flow From Operations Growth (%) = -9.50 %\n",
    "\n",
    " - 2022\n",
    "   - Revenue Growth (%) = 7.7 %\n",
    "   - Net Income Growth (%) = 5.41 %\n",
    "   - Asset Growth (%) = 0.49 %\n",
    "   - Liability Growth (%) = 4.92 %\n",
    "   - Cash Flow From Operations Growth (%) = 17.40 %\n",
    "\n",
    "### Conclusion\n",
    "The analysis revealed significant trends in the financial performance of the companies over the past three years.\n"
   ]
  }
 ],
 "metadata": {
  "kernelspec": {
   "display_name": "Python 3 (ipykernel)",
   "language": "python",
   "name": "python3"
  },
  "language_info": {
   "codemirror_mode": {
    "name": "ipython",
    "version": 3
   },
   "file_extension": ".py",
   "mimetype": "text/x-python",
   "name": "python",
   "nbconvert_exporter": "python",
   "pygments_lexer": "ipython3",
   "version": "3.12.3"
  }
 },
 "nbformat": 4,
 "nbformat_minor": 5
}
